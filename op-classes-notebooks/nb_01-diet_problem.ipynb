{
  "nbformat": 4,
  "nbformat_minor": 0,
  "metadata": {
    "colab": {
      "provenance": []
    },
    "kernelspec": {
      "name": "python3",
      "display_name": "Python 3"
    },
    "language_info": {
      "name": "python"
    }
  },
  "cells": [
    {
      "cell_type": "markdown",
      "source": [
        "# Model for practicing the diet from Lesson 2\n",
        "\n",
        "\n",
        "*   *Please note that this notebook has been translated into English so that anyone in the world can access it, as the original lessons using this material were in Brazilian Portuguese.*\n",
        "* *Translated by Rafael Henrique, Data Science Student at @UFPB*\n",
        "\n"
      ],
      "metadata": {
        "id": "bWRQiUiM5rAO"
      }
    },
    {
      "cell_type": "markdown",
      "source": [
        "## Installing and importing the mip package"
      ],
      "metadata": {
        "id": "XA20GmJw3-uZ"
      }
    },
    {
      "cell_type": "code",
      "execution_count": 2,
      "metadata": {
        "colab": {
          "base_uri": "https://localhost:8080/"
        },
        "id": "beMNpmT1uuGm",
        "outputId": "686f789a-6315-4455-b0da-d62d864a3606"
      },
      "outputs": [
        {
          "output_type": "stream",
          "name": "stdout",
          "text": [
            "Requirement already satisfied: mip in /usr/local/lib/python3.11/dist-packages (1.15.0)\n",
            "Requirement already satisfied: cffi==1.15.* in /usr/local/lib/python3.11/dist-packages (from mip) (1.15.1)\n",
            "Requirement already satisfied: pycparser in /usr/local/lib/python3.11/dist-packages (from cffi==1.15.*->mip) (2.22)\n"
          ]
        }
      ],
      "source": [
        "!pip install mip # Using terminal notation to install Python-MIP package\n",
        "\n",
        "from mip import * # Importing everything from Python-MIP to use in the program"
      ]
    },
    {
      "cell_type": "markdown",
      "source": [
        "## Creating model\n",
        "\n"
      ],
      "metadata": {
        "id": "___iDKK44EdN"
      }
    },
    {
      "cell_type": "markdown",
      "source": [
        "$$\\min 1.5 x_0 + 2 x_1 + 3 x_2 + 0.8 x_3$$\n",
        "S.a.\n",
        "$$7 x_0 + 8 x_1 + 30 x_2 + 6 x_3 \\geq 3$$\n",
        "$$550 x_0 + 300 x_1 + 400 x_2 + 250 x_3 \\geq 50$$\n",
        "$$x_0, x_1, x_2, x_3 \\geq 0$$"
      ],
      "metadata": {
        "id": "1oQnaJlVr-rd"
      }
    },
    {
      "cell_type": "markdown",
      "source": [
        "### Professor's model implementation"
      ],
      "metadata": {
        "id": "iiV79CnNqvFM"
      }
    },
    {
      "cell_type": "code",
      "source": [
        "# First, you have to use the Python-MIP syntax to declare (initiate) the model\n",
        "model = Model(name=\"diet-problem\", sense=MINIMIZE, solver_name=CBC) # In this case, we're gonna try to MINIMIZE the objetive function, using the CBC solver\n",
        "\n",
        "# Creating the variables (the decisions we're gonna take) using list comprehension notation\n",
        "x = [model.add_var(var_type=CONTINUOUS, name=f\"x_{i}\", lb=0.0) for i in range (4)]\n",
        "'''\n",
        "In the line above, we have a lot of things going on:\n",
        "- model.add_var: method to add variables in the previous declared model\n",
        "- var_type=CONTINUOUS: indicates that the variables could take decimal values\n",
        "- name: the name of the variables, using f string to name it iterating with the for loop\n",
        "- lb=0.0: lower bound value, whitch means the minimum value a variable could take\n",
        "- for i in range (4): just a normal for loop using list compreehension\n",
        "\n",
        "'''\n",
        "\n",
        "# Creating the Objective function (minimize the total cost)\n",
        "model.objective = 1.5*x[0] + 2*x[1] + 3*x[2] + 0.8*x[3] # .objective is a method to implement the O.F\n",
        "\n",
        "# Restriction 01: minimum amount of vitamin A\n",
        "model += 7*x[0] + 8*x[1] + 30*x[2] + 6*x[3] >= 3 # Notice that we can just sum the restriction equatio to the model using +=\n",
        "\n",
        "# Restriction 02: minimum amout of vitamin C\n",
        "model += 550*x[0] + 300*x[1] + 400*x[2] + 250*x[3] >= 50\n",
        "\n",
        "# Saving the model in archive\n",
        "model.write(\"model.lp\")\n",
        "# Reading and showing the content in the archive\n",
        "with open(\"model.lp\") as f:\n",
        "  print(f.read())"
      ],
      "metadata": {
        "colab": {
          "base_uri": "https://localhost:8080/"
        },
        "id": "Gaph-oYAtAUB",
        "outputId": "a5ef49f3-534a-4e55-bf3d-dfea9460756a"
      },
      "execution_count": 5,
      "outputs": [
        {
          "output_type": "stream",
          "name": "stdout",
          "text": [
            "\\Problem name: diet-problem\n",
            "\n",
            "Minimize\n",
            "OBJROW: 1.50000 x_0 + 2 x_1 + 3 x_2 + 0.80000 x_3\n",
            "Subject To\n",
            "constr(0):  7 x_0 + 8 x_1 + 30 x_2 + 6 x_3 >= 3\n",
            "constr(1):  550 x_0 + 300 x_1 + 400 x_2 + 250 x_3 >= 50\n",
            "Bounds\n",
            "End\n",
            "\n"
          ]
        }
      ]
    },
    {
      "cell_type": "markdown",
      "source": [
        "## Resolution with Python-MIP"
      ],
      "metadata": {
        "id": "gOSVfM7b5B2l"
      }
    },
    {
      "cell_type": "code",
      "source": [
        "# Here, we're calling CBC model to resolve the problem and find the best solution\n",
        "status = model.optimize() # The \"status\" variable is saving solution\n",
        "\n",
        "# Checking the resolution status\n",
        "print(\"Status = \", status)\n",
        "\n",
        "# Printing the resolution's objective value\n",
        "print(f\"Solution value  = {model.objective_value:.4f}\\n\")\n",
        "\n",
        "# Printing the solution for every variable using list comprehension\n",
        "var_solutions = [print(f\"{v.name} = {v.x:.4f}\") for v in model.vars]"
      ],
      "metadata": {
        "colab": {
          "base_uri": "https://localhost:8080/"
        },
        "id": "ULVb_jQQ4_23",
        "outputId": "a272bbc3-4e9f-4a5c-ef41-2f2de078e06d"
      },
      "execution_count": 13,
      "outputs": [
        {
          "output_type": "stream",
          "name": "stdout",
          "text": [
            "Status =  OptimizationStatus.OPTIMAL\n",
            "Solution value  = 0.3118\n",
            "\n",
            "x_0 = 0.0000\n",
            "x_1 = 0.0000\n",
            "x_2 = 0.0882\n",
            "x_3 = 0.0588\n"
          ]
        }
      ]
    }
  ]
}